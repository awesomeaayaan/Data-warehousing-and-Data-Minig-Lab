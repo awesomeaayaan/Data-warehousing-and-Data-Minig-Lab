{
 "cells": [
  {
   "cell_type": "markdown",
   "id": "3b28d174",
   "metadata": {},
   "source": [
    "# Implementing Apriori Algorithm for Association Rule Mining"
   ]
  },
  {
   "cell_type": "code",
   "execution_count": 12,
   "id": "34928b71",
   "metadata": {},
   "outputs": [],
   "source": [
    "# Importing the libraries\n",
    "import numpy as np\n",
    "import matplotlib.pyplot as plt\n",
    "import pandas as pd"
   ]
  },
  {
   "cell_type": "code",
   "execution_count": 13,
   "id": "d4e10361",
   "metadata": {},
   "outputs": [],
   "source": [
    "#Importing the data sets\n",
    "data = pd.read_csv(\"Apriori _ Market_Basket_Optimisation.csv\")"
   ]
  },
  {
   "cell_type": "code",
   "execution_count": 14,
   "id": "7aa88537",
   "metadata": {},
   "outputs": [
    {
     "data": {
      "text/html": [
       "<div>\n",
       "<style scoped>\n",
       "    .dataframe tbody tr th:only-of-type {\n",
       "        vertical-align: middle;\n",
       "    }\n",
       "\n",
       "    .dataframe tbody tr th {\n",
       "        vertical-align: top;\n",
       "    }\n",
       "\n",
       "    .dataframe thead th {\n",
       "        text-align: right;\n",
       "    }\n",
       "</style>\n",
       "<table border=\"1\" class=\"dataframe\">\n",
       "  <thead>\n",
       "    <tr style=\"text-align: right;\">\n",
       "      <th></th>\n",
       "      <th>0</th>\n",
       "      <th>1</th>\n",
       "      <th>2</th>\n",
       "      <th>3</th>\n",
       "      <th>4</th>\n",
       "      <th>5</th>\n",
       "      <th>6</th>\n",
       "      <th>7</th>\n",
       "      <th>8</th>\n",
       "      <th>9</th>\n",
       "      <th>10</th>\n",
       "      <th>11</th>\n",
       "      <th>12</th>\n",
       "      <th>13</th>\n",
       "      <th>14</th>\n",
       "      <th>15</th>\n",
       "      <th>16</th>\n",
       "      <th>17</th>\n",
       "      <th>18</th>\n",
       "      <th>19</th>\n",
       "    </tr>\n",
       "  </thead>\n",
       "  <tbody>\n",
       "    <tr>\n",
       "      <th>0</th>\n",
       "      <td>shrimp</td>\n",
       "      <td>nut</td>\n",
       "      <td>lemon</td>\n",
       "      <td>vegetables mix</td>\n",
       "      <td>green grapes</td>\n",
       "      <td>whole weat flour</td>\n",
       "      <td>yams</td>\n",
       "      <td>cottage cheese</td>\n",
       "      <td>energy drink</td>\n",
       "      <td>tomato juice</td>\n",
       "      <td>low fat yogurt</td>\n",
       "      <td>iced tea</td>\n",
       "      <td>honey</td>\n",
       "      <td>salad</td>\n",
       "      <td>mineral water</td>\n",
       "      <td>salmon</td>\n",
       "      <td>antioxydant juice</td>\n",
       "      <td>frozen smoothie</td>\n",
       "      <td>spinach</td>\n",
       "      <td>olive oil</td>\n",
       "    </tr>\n",
       "    <tr>\n",
       "      <th>1</th>\n",
       "      <td>burgers</td>\n",
       "      <td>meatballs</td>\n",
       "      <td>eggs</td>\n",
       "      <td>NaN</td>\n",
       "      <td>NaN</td>\n",
       "      <td>NaN</td>\n",
       "      <td>NaN</td>\n",
       "      <td>NaN</td>\n",
       "      <td>NaN</td>\n",
       "      <td>NaN</td>\n",
       "      <td>NaN</td>\n",
       "      <td>NaN</td>\n",
       "      <td>NaN</td>\n",
       "      <td>NaN</td>\n",
       "      <td>NaN</td>\n",
       "      <td>NaN</td>\n",
       "      <td>NaN</td>\n",
       "      <td>NaN</td>\n",
       "      <td>NaN</td>\n",
       "      <td>NaN</td>\n",
       "    </tr>\n",
       "    <tr>\n",
       "      <th>2</th>\n",
       "      <td>chutney</td>\n",
       "      <td>NaN</td>\n",
       "      <td>NaN</td>\n",
       "      <td>NaN</td>\n",
       "      <td>NaN</td>\n",
       "      <td>NaN</td>\n",
       "      <td>NaN</td>\n",
       "      <td>NaN</td>\n",
       "      <td>NaN</td>\n",
       "      <td>NaN</td>\n",
       "      <td>NaN</td>\n",
       "      <td>NaN</td>\n",
       "      <td>NaN</td>\n",
       "      <td>NaN</td>\n",
       "      <td>NaN</td>\n",
       "      <td>NaN</td>\n",
       "      <td>NaN</td>\n",
       "      <td>NaN</td>\n",
       "      <td>NaN</td>\n",
       "      <td>NaN</td>\n",
       "    </tr>\n",
       "  </tbody>\n",
       "</table>\n",
       "</div>"
      ],
      "text/plain": [
       "         0          1      2               3             4                 5  \\\n",
       "0   shrimp        nut  lemon  vegetables mix  green grapes  whole weat flour   \n",
       "1  burgers  meatballs   eggs             NaN           NaN               NaN   \n",
       "2  chutney        NaN    NaN             NaN           NaN               NaN   \n",
       "\n",
       "      6               7             8             9              10        11  \\\n",
       "0  yams  cottage cheese  energy drink  tomato juice  low fat yogurt  iced tea   \n",
       "1   NaN             NaN           NaN           NaN             NaN       NaN   \n",
       "2   NaN             NaN           NaN           NaN             NaN       NaN   \n",
       "\n",
       "      12     13             14      15                 16               17  \\\n",
       "0  honey  salad  mineral water  salmon  antioxydant juice  frozen smoothie   \n",
       "1    NaN    NaN            NaN     NaN                NaN              NaN   \n",
       "2    NaN    NaN            NaN     NaN                NaN              NaN   \n",
       "\n",
       "        18         19  \n",
       "0  spinach  olive oil  \n",
       "1      NaN        NaN  \n",
       "2      NaN        NaN  "
      ]
     },
     "execution_count": 14,
     "metadata": {},
     "output_type": "execute_result"
    }
   ],
   "source": [
    "data.head(3)"
   ]
  },
  {
   "cell_type": "code",
   "execution_count": 15,
   "id": "5a30ad7c",
   "metadata": {},
   "outputs": [
    {
     "data": {
      "text/plain": [
       "(7501, 20)"
      ]
     },
     "execution_count": 15,
     "metadata": {},
     "output_type": "execute_result"
    }
   ],
   "source": [
    "#checking the the rows and columns of the datasets\n",
    "data.shape"
   ]
  },
  {
   "cell_type": "markdown",
   "id": "ded0a1b7",
   "metadata": {},
   "source": [
    "# Install apyori library"
   ]
  },
  {
   "cell_type": "code",
   "execution_count": 16,
   "id": "0e11d53e",
   "metadata": {},
   "outputs": [
    {
     "name": "stdout",
     "output_type": "stream",
     "text": [
      "Requirement already satisfied: apyori in c:\\programdata\\anaconda3\\lib\\site-packages (1.1.2)\n"
     ]
    }
   ],
   "source": [
    "!pip install apyori"
   ]
  },
  {
   "cell_type": "markdown",
   "id": "82e0d7e1",
   "metadata": {},
   "source": [
    "# Data Pre-Proccessing"
   ]
  },
  {
   "cell_type": "markdown",
   "id": "5af966d1",
   "metadata": {},
   "source": [
    "##### The input data for Apriori should be the list, not the pandas dataframe. So we need to convert our dataframe into list which contains sublists. For this we need to create a loop which will go through all rows and all columns.\n",
    "\n",
    "At first we need to create an empty list. After creating an empty list we need to append the list with the elements in our dataset converted into string using loop. We have 7501 rows and 20 columns. So variable i should start from 0 and go to 7501. Then, for each row we need to look at 20 columns. Thats why we are using the second for cycle inside the loop which starts from 0 and goes to 20"
   ]
  },
  {
   "cell_type": "code",
   "execution_count": 17,
   "id": "3b315314",
   "metadata": {},
   "outputs": [],
   "source": [
    "#Let's create an empty list here\n",
    "list_of_transactions = []\n",
    "#Append the list\n",
    "for i in range(0, 7501):\n",
    "    list_of_transactions.append([str(data.values[i,j]) for j in range(0, 20)])"
   ]
  },
  {
   "cell_type": "code",
   "execution_count": 18,
   "id": "60fcd071",
   "metadata": {},
   "outputs": [
    {
     "data": {
      "text/plain": [
       "['shrimp',\n",
       " 'nut',\n",
       " 'lemon',\n",
       " 'vegetables mix',\n",
       " 'green grapes',\n",
       " 'whole weat flour',\n",
       " 'yams',\n",
       " 'cottage cheese',\n",
       " 'energy drink',\n",
       " 'tomato juice',\n",
       " 'low fat yogurt',\n",
       " 'iced tea',\n",
       " 'honey',\n",
       " 'salad',\n",
       " 'mineral water',\n",
       " 'salmon',\n",
       " 'antioxydant juice',\n",
       " 'frozen smoothie',\n",
       " 'spinach',\n",
       " 'olive oil']"
      ]
     },
     "execution_count": 18,
     "metadata": {},
     "output_type": "execute_result"
    }
   ],
   "source": [
    "#Let's see the first element from our list of transactions. We should indicate 0 here because index in Pythn starts with 0\n",
    "list_of_transactions[0]"
   ]
  },
  {
   "cell_type": "markdown",
   "id": "11520d5c",
   "metadata": {},
   "source": [
    "# Training Apriori Algorithm"
   ]
  },
  {
   "cell_type": "code",
   "execution_count": 19,
   "id": "040bc8bb",
   "metadata": {},
   "outputs": [],
   "source": [
    "# Training apiori algorithm on our list_of_transactions\n",
    "from apyori import apriori\n",
    "rules = apriori(list_of_transactions, min_support = 0.004, min_confidence = 0.2, min_lift = 3, min_length = 2)\n",
    "#So we will train apriori algorithm on our list_of_transactions and\n",
    "#get the rules where items appear together"
   ]
  },
  {
   "cell_type": "code",
   "execution_count": 20,
   "id": "48a4841f",
   "metadata": {},
   "outputs": [],
   "source": [
    "# Create a list of rules and print the results\n",
    "results = list(rules)"
   ]
  },
  {
   "cell_type": "code",
   "execution_count": 21,
   "id": "ea474f38",
   "metadata": {},
   "outputs": [
    {
     "data": {
      "text/plain": [
       "RelationRecord(items=frozenset({'light cream', 'chicken'}), support=0.004532728969470737, ordered_statistics=[OrderedStatistic(items_base=frozenset({'light cream'}), items_add=frozenset({'chicken'}), confidence=0.29059829059829057, lift=4.84395061728395)])"
      ]
     },
     "execution_count": 21,
     "metadata": {},
     "output_type": "execute_result"
    }
   ],
   "source": [
    "#Here is the first rule in list or results\n",
    "results[0]"
   ]
  },
  {
   "cell_type": "markdown",
   "id": "93aac409",
   "metadata": {},
   "source": [
    "##### Let's discuss the first rule -> {'chicken', 'light cream'} with support=0.0045, confidence=0.291 and lift=4.84. Please pay attention to that: items_base is {'light cream'} and items_add is {'chicken'}. This means that there is 29% chance (confidence) that user will buy chicken if he has already bought light cream. So left hand side is light cream and right hand side is chicken."
   ]
  },
  {
   "cell_type": "markdown",
   "id": "ec70c4d7",
   "metadata": {},
   "source": [
    "# Putting the results into a Pandas DataFrame"
   ]
  },
  {
   "cell_type": "code",
   "execution_count": 22,
   "id": "77b7a819",
   "metadata": {},
   "outputs": [
    {
     "data": {
      "text/html": [
       "<div>\n",
       "<style scoped>\n",
       "    .dataframe tbody tr th:only-of-type {\n",
       "        vertical-align: middle;\n",
       "    }\n",
       "\n",
       "    .dataframe tbody tr th {\n",
       "        vertical-align: top;\n",
       "    }\n",
       "\n",
       "    .dataframe thead th {\n",
       "        text-align: right;\n",
       "    }\n",
       "</style>\n",
       "<table border=\"1\" class=\"dataframe\">\n",
       "  <thead>\n",
       "    <tr style=\"text-align: right;\">\n",
       "      <th></th>\n",
       "      <th>Left Hand Side</th>\n",
       "      <th>Right Hand Side</th>\n",
       "      <th>Support</th>\n",
       "      <th>Confidence</th>\n",
       "      <th>Lift</th>\n",
       "    </tr>\n",
       "  </thead>\n",
       "  <tbody>\n",
       "    <tr>\n",
       "      <th>0</th>\n",
       "      <td>light cream</td>\n",
       "      <td>chicken</td>\n",
       "      <td>0.004533</td>\n",
       "      <td>0.290598</td>\n",
       "      <td>4.843951</td>\n",
       "    </tr>\n",
       "    <tr>\n",
       "      <th>1</th>\n",
       "      <td>mushroom cream sauce</td>\n",
       "      <td>escalope</td>\n",
       "      <td>0.005733</td>\n",
       "      <td>0.300699</td>\n",
       "      <td>3.790833</td>\n",
       "    </tr>\n",
       "    <tr>\n",
       "      <th>2</th>\n",
       "      <td>pasta</td>\n",
       "      <td>escalope</td>\n",
       "      <td>0.005866</td>\n",
       "      <td>0.372881</td>\n",
       "      <td>4.700812</td>\n",
       "    </tr>\n",
       "  </tbody>\n",
       "</table>\n",
       "</div>"
      ],
      "text/plain": [
       "         Left Hand Side Right Hand Side   Support  Confidence      Lift\n",
       "0           light cream         chicken  0.004533    0.290598  4.843951\n",
       "1  mushroom cream sauce        escalope  0.005733    0.300699  3.790833\n",
       "2                 pasta        escalope  0.005866    0.372881  4.700812"
      ]
     },
     "execution_count": 22,
     "metadata": {},
     "output_type": "execute_result"
    }
   ],
   "source": [
    "#In order to visualize our rules better we need to extract elements from our\n",
    "#results list, convert it to pd.data frame and sort strong rules by lift value.\n",
    "#Here is the code for this. We have extracted left hand side and right hand \n",
    "#side items from our rules above, also their support, confidence and lift value\n",
    "def inspect(results):\n",
    "    lhs     =  [tuple(result [2] [0] [0]) [0] for result in results]\n",
    "    rhs     =  [tuple(result [2] [0] [1]) [0] for result in results]\n",
    "    supports = [result [1] for result in results]\n",
    "    confidences = [result [2] [0] [2]   for result in results]\n",
    "    lifts = [result [2] [0] [3]   for result in results]\n",
    "    return list(zip(lhs,rhs,supports,confidences, lifts))\n",
    "resultsinDataFrame = pd.DataFrame(inspect(results),columns = \n",
    "    ['Left Hand Side', 'Right Hand Side', 'Support', 'Confidence', 'Lift'] )\n",
    "resultsinDataFrame.head(3)"
   ]
  },
  {
   "cell_type": "code",
   "execution_count": 23,
   "id": "d8bac32e",
   "metadata": {},
   "outputs": [
    {
     "data": {
      "text/html": [
       "<div>\n",
       "<style scoped>\n",
       "    .dataframe tbody tr th:only-of-type {\n",
       "        vertical-align: middle;\n",
       "    }\n",
       "\n",
       "    .dataframe tbody tr th {\n",
       "        vertical-align: top;\n",
       "    }\n",
       "\n",
       "    .dataframe thead th {\n",
       "        text-align: right;\n",
       "    }\n",
       "</style>\n",
       "<table border=\"1\" class=\"dataframe\">\n",
       "  <thead>\n",
       "    <tr style=\"text-align: right;\">\n",
       "      <th></th>\n",
       "      <th>Left Hand Side</th>\n",
       "      <th>Right Hand Side</th>\n",
       "      <th>Support</th>\n",
       "      <th>Confidence</th>\n",
       "      <th>Lift</th>\n",
       "    </tr>\n",
       "  </thead>\n",
       "  <tbody>\n",
       "    <tr>\n",
       "      <th>0</th>\n",
       "      <td>light cream</td>\n",
       "      <td>chicken</td>\n",
       "      <td>0.004533</td>\n",
       "      <td>0.290598</td>\n",
       "      <td>4.843951</td>\n",
       "    </tr>\n",
       "    <tr>\n",
       "      <th>7</th>\n",
       "      <td>light cream</td>\n",
       "      <td>nan</td>\n",
       "      <td>0.004533</td>\n",
       "      <td>0.290598</td>\n",
       "      <td>4.843951</td>\n",
       "    </tr>\n",
       "    <tr>\n",
       "      <th>2</th>\n",
       "      <td>pasta</td>\n",
       "      <td>escalope</td>\n",
       "      <td>0.005866</td>\n",
       "      <td>0.372881</td>\n",
       "      <td>4.700812</td>\n",
       "    </tr>\n",
       "    <tr>\n",
       "      <th>12</th>\n",
       "      <td>pasta</td>\n",
       "      <td>nan</td>\n",
       "      <td>0.005866</td>\n",
       "      <td>0.372881</td>\n",
       "      <td>4.700812</td>\n",
       "    </tr>\n",
       "    <tr>\n",
       "      <th>30</th>\n",
       "      <td>pasta</td>\n",
       "      <td>nan</td>\n",
       "      <td>0.005066</td>\n",
       "      <td>0.322034</td>\n",
       "      <td>4.515096</td>\n",
       "    </tr>\n",
       "    <tr>\n",
       "      <th>6</th>\n",
       "      <td>pasta</td>\n",
       "      <td>shrimp</td>\n",
       "      <td>0.005066</td>\n",
       "      <td>0.322034</td>\n",
       "      <td>4.506672</td>\n",
       "    </tr>\n",
       "  </tbody>\n",
       "</table>\n",
       "</div>"
      ],
      "text/plain": [
       "   Left Hand Side Right Hand Side   Support  Confidence      Lift\n",
       "0     light cream         chicken  0.004533    0.290598  4.843951\n",
       "7     light cream             nan  0.004533    0.290598  4.843951\n",
       "2           pasta        escalope  0.005866    0.372881  4.700812\n",
       "12          pasta             nan  0.005866    0.372881  4.700812\n",
       "30          pasta             nan  0.005066    0.322034  4.515096\n",
       "6           pasta          shrimp  0.005066    0.322034  4.506672"
      ]
     },
     "execution_count": 23,
     "metadata": {},
     "output_type": "execute_result"
    }
   ],
   "source": [
    "#As we have our rules in pd.dataframe we can sort it by lift value using \n",
    "#nlargest command. Here we are saying that we need top 6 rule by lift value\n",
    "resultsinDataFrame.nlargest(n=6, columns='Lift')"
   ]
  },
  {
   "cell_type": "code",
   "execution_count": null,
   "id": "6aafb0cc",
   "metadata": {},
   "outputs": [],
   "source": []
  }
 ],
 "metadata": {
  "kernelspec": {
   "display_name": "Python 3 (ipykernel)",
   "language": "python",
   "name": "python3"
  },
  "language_info": {
   "codemirror_mode": {
    "name": "ipython",
    "version": 3
   },
   "file_extension": ".py",
   "mimetype": "text/x-python",
   "name": "python",
   "nbconvert_exporter": "python",
   "pygments_lexer": "ipython3",
   "version": "3.9.13"
  }
 },
 "nbformat": 4,
 "nbformat_minor": 5
}
